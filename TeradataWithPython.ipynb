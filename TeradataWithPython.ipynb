{
 "cells": [
  {
   "cell_type": "code",
   "execution_count": null,
   "metadata": {},
   "outputs": [],
   "source": [
    "pip install teradatasql"
   ]
  },
  {
   "cell_type": "code",
   "execution_count": 2,
   "metadata": {},
   "outputs": [],
   "source": [
    "import teradatasql"
   ]
  },
  {
   "cell_type": "code",
   "execution_count": 4,
   "metadata": {},
   "outputs": [],
   "source": []
  },
  {
   "cell_type": "code",
   "execution_count": null,
   "metadata": {},
   "outputs": [],
   "source": [
    "import csv\n",
    "import teradatasql\n",
    "\n",
    "with open ('airports.csv', newline='') as f:\n",
    "    with teradatasql.connect ('{\"host\":\"whomooz\",\"user\":\"guest\",\"password\":\"please\"}') as con:\n",
    "        with con.cursor () as cur:\n",
    "            cur.execute (\"create volatile table Airports (City varchar(100), Airport varchar(100), AirportCode varchar(10)) on commit preserve rows\")\n",
    "            cur.execute (\"insert into Airports (?, ?, ?)\", [ row for row in csv.reader (f) ])\n",
    "            cur.execute (\"select AirportCode, Airport, City from Airports order by AirportCode\")\n",
    "            [ print (row) for row in cur.fetchall () ]"
   ]
  }
 ],
 "metadata": {
  "kernelspec": {
   "display_name": "Python 3",
   "language": "python",
   "name": "python3"
  },
  "language_info": {
   "codemirror_mode": {
    "name": "ipython",
    "version": 3
   },
   "file_extension": ".py",
   "mimetype": "text/x-python",
   "name": "python",
   "nbconvert_exporter": "python",
   "pygments_lexer": "ipython3",
   "version": "3.7.6"
  }
 },
 "nbformat": 4,
 "nbformat_minor": 4
}
